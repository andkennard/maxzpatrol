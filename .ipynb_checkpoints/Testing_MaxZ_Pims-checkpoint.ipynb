{
 "cells": [
  {
   "cell_type": "code",
   "execution_count": 50,
   "metadata": {},
   "outputs": [],
   "source": [
    "import numpy as np\n",
    "import pims\n",
    "from pims.base_frames import FramesSequenceND\n",
    "from pims import Frame\n",
    "from pims.bioformats import BioformatsReader\n",
    "import sys\n",
    "import matplotlib.pyplot as plt\n",
    "%matplotlib inline"
   ]
  },
  {
   "cell_type": "code",
   "execution_count": 125,
   "metadata": {},
   "outputs": [
    {
     "name": "stderr",
     "output_type": "stream",
     "text": [
      "/Users/andrewkennard/.virtualenvs/myenv/lib/python3.6/site-packages/pims/bioformats.py:386: UserWarning: Due to an issue with JPype 0.6.0, reading is slower. Please consider upgrading JPype to 0.6.1 or later.\n",
      "  warn('Due to an issue with JPype 0.6.0, reading is slower. '\n"
     ]
    },
    {
     "data": {
      "text/plain": [
       "{'x': 256, 'y': 256, 'c': 2, 't': 4, 'z': 4}"
      ]
     },
     "execution_count": 125,
     "metadata": {},
     "output_type": "execute_result"
    }
   ],
   "source": [
    "images = BioformatsReader('testImages/testStack16bit_xyzct.tif')\n",
    "testImage = pims.Bioformats('testImages/testStack16bit_xyzt_MaxZ.tif')\n",
    "images.bundle_axes = 'yx'\n",
    "images.iter_axes  = 'z'\n",
    "imageDimensions = images.sizes\n",
    "imageDimensions"
   ]
  },
  {
   "cell_type": "code",
   "execution_count": 3,
   "metadata": {},
   "outputs": [
    {
     "data": {
      "image/png": "[encoded data removed]",
      "text/plain": [
       "<Figure size 432x288 with 1 Axes>"
      ]
     },
     "metadata": {},
     "output_type": "display_data"
    },
    {
     "data": {
      "text/plain": [
       "4074504192"
      ]
     },
     "execution_count": 3,
     "metadata": {},
     "output_type": "execute_result"
    }
   ],
   "source": [
    "# Perform the max-z\n",
    "container = np.zeros((imageDimensions['y'], imageDimensions['x']), dtype=images[0].dtype)\n",
    "for k, im in enumerate(images):\n",
    "    stack_index = k % imageDimensions['z']\n",
    "    if stack_index == 0:\n",
    "        container = np.zeros_like(container)\n",
    "    container = np.maximum(container,im)\n",
    "plt.imshow(container)\n",
    "plt.show()\n",
    "np.sum(container-testImage)\n"
   ]
  },
  {
   "cell_type": "code",
   "execution_count": 146,
   "metadata": {},
   "outputs": [],
   "source": [
    "class ReaderForMaxZWritingND(FramesSequenceND):\n",
    "    '''Pims-based reader for storing maxZ projection from a pims-based array \n",
    "    and accessing the result for writing'''\n",
    "    @property\n",
    "    def pixel_type(self):\n",
    "        return self._pixel_type\n",
    "    \n",
    "    \n",
    "    def __init__(self, original_reader):\n",
    "        super(ReaderForMaxZWritingND, self).__init__()\n",
    "        if not hasattr(original_reader,'sizes'):\n",
    "            raise ValueError('original_reader object must have sizes. Is \\\n",
    "                             original_reader a pims object?')\n",
    "        self._pixel_type = original_reader.pixel_type\n",
    "        original_sizes = original_reader.sizes\n",
    "        min_required_axes = ('z', 'y', 'x')\n",
    "        for name in min_required_axes:\n",
    "            if name not in original_sizes:\n",
    "                raise ValueError(\n",
    "                    'original reader does not have a {}-axis.'.format(name))\n",
    "        for name, size in original_sizes.items():\n",
    "            if name == 'z':\n",
    "                continue\n",
    "            self._init_axis(name, size)\n",
    "        self._maxz_array = np.zeros(self._shape_in_order(), \n",
    "                                    dtype=self._pixel_type)\n",
    "        self._register_get_frame(self.get_frame_2D,'yx')\n",
    "        if self._axes_in_order() == ('t','c','y','x'):\n",
    "            self.bundle_axes = 'cyx'\n",
    "        if 't' in self.axes:\n",
    "            self.iter_axes = 't'\n",
    "        if self._axes_in_order() == ('c','y','x'):\n",
    "            self.iter_axes = 'c'\n",
    "        \n",
    "        \n",
    "    def _shape_in_order(self):\n",
    "        '''Returns shape tuple in the proper order ((t)(c)yx, assuming no z)'''\n",
    "        return tuple(self._sizes[name] for name in self._axes_in_order())\n",
    "    \n",
    "    \n",
    "    def _axes_in_order(self):\n",
    "        '''Returns tuple of axes names in the proper order (tcyx, assuming no z)'''\n",
    "        axes_list = []\n",
    "        for name in ['t','c','y','x']:\n",
    "            if name in self._sizes:\n",
    "                axes_list.append(name)\n",
    "            else:\n",
    "                continue\n",
    "        return tuple(axes_list)\n",
    "    \n",
    "    \n",
    "    def get_frame_2D(self,**coords):\n",
    "        if 't' and 'c' in coords:\n",
    "            result = self._maxz_array[coords['t'],coords['c'],...]\n",
    "        elif 't' in coords:\n",
    "            result = self._maxz_array[coords['t'],...]\n",
    "        elif 'c' in coords:\n",
    "            result = self._maxz_array[coords['c'],...]\n",
    "        else:\n",
    "            result = self._maxz_array\n",
    "        return Frame(result)\n",
    "    \n",
    "    \n",
    "    def set_maxz_data(self,data,**coords):\n",
    "        if len(q.bundle_axes) != data.ndim:\n",
    "            raise ValueError('data dimensions do not match number of \\\n",
    "                              bundled axes!')\n",
    "        \n",
    "        if 't' and 'c' in coords:\n",
    "            self._maxz_array[coords['t'],coords['c'],...] = data\n",
    "        elif 't' in coords:\n",
    "            self._maxz_array[coords['t'],...] = data\n",
    "        elif 'c' in coords:\n",
    "            raise ValueError('performing max-z iterating c and bundling t is not \\\n",
    "                              yet supported.')\n",
    "        else:\n",
    "            self._maxz_array = data\n",
    "    \n",
    "    \n",
    "    def bundle_shape(self):\n",
    "        '''Return the size of a single plane (e.g. cyz or yz) of the maxz image'''\n",
    "        bundle_axes_in_order = [name for name in self._axes_in_order() \n",
    "                                if name in self._bundle_axes]\n",
    "        shape_list = []\n",
    "        for name in bundle_axes_in_order:\n",
    "            shape_list.append(self._sizes[name])\n",
    "        return tuple(shape_list)\n",
    "        \n",
    "\n",
    "#Things to ask Neha:\n",
    "# 1. What is going on with ('t') and ('t',)?\n",
    "# 2. better alternative to the if/elif for the different possible maxz_array dimensions?"
   ]
  },
  {
   "cell_type": "code",
   "execution_count": 147,
   "metadata": {},
   "outputs": [
    {
     "data": {
      "text/plain": [
       "(2, 256, 256)"
      ]
     },
     "execution_count": 147,
     "metadata": {},
     "output_type": "execute_result"
    }
   ],
   "source": [
    "q = ReaderForMaxZWritingND(images)\n",
    "q.bundle_shape()"
   ]
  },
  {
   "cell_type": "code",
   "execution_count": 173,
   "metadata": {},
   "outputs": [
    {
     "name": "stdout",
     "output_type": "stream",
     "text": [
      "{'t': 0}\n",
      "{'t': 1}\n",
      "{'t': 2}\n",
      "{'t': 3}\n"
     ]
    },
    {
     "data": {
      "text/html": [
       "<img src=\"data:image/png;base64,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\" style=\"width: 512\" />"
      ],
      "text/plain": [
       "Frame([[[0, 0, 0, ..., 0, 0, 0],\n",
       "        [0, 0, 0, ..., 0, 0, 0],\n",
       "        [0, 0, 0, ..., 0, 0, 0],\n",
       "        ...,\n",
       "        [0, 0, 0, ..., 0, 0, 0],\n",
       "        [0, 0, 0, ..., 0, 0, 0],\n",
       "        [0, 0, 0, ..., 0, 0, 0]],\n",
       "\n",
       "       [[0, 0, 0, ..., 0, 0, 0],\n",
       "        [0, 0, 0, ..., 0, 0, 0],\n",
       "        [0, 0, 0, ..., 0, 0, 0],\n",
       "        ...,\n",
       "        [0, 0, 0, ..., 0, 0, 0],\n",
       "        [0, 0, 0, ..., 0, 0, 0],\n",
       "        [0, 0, 0, ..., 0, 0, 0]]], dtype=uint16)"
      ]
     },
     "execution_count": 173,
     "metadata": {},
     "output_type": "execute_result"
    }
   ],
   "source": [
    "#This is the example of how an image will be read and max-z projected (into the custom reader/writer class)\n",
    "q = ReaderForMaxZWritingND(images)\n",
    "images.bundle_axes = 'cyx'\n",
    "images.iter_axes = 'tz'\n",
    "sizeZ = images.sizes['z']\n",
    "sizeT = images.sizes['t']\n",
    "container = np.zeros(q.bundle_shape(), dtype = q.pixel_type)\n",
    "for k,im in enumerate(images):\n",
    "\n",
    "    container = np.maximum(container,im)\n",
    "    if (k+1) % sizeZ == 0:\n",
    "        coords = {'t': k // sizeZ}\n",
    "        q.set_maxz_data(container,**coords)\n",
    "        print(coords) #diagnostics only\n",
    "        container[:] = 0\n",
    "#TODO: Add the saving part! Also make sure there are good docstrings for the ReaderForMaxZWritingND class"
   ]
  },
  {
   "cell_type": "code",
   "execution_count": 14,
   "metadata": {},
   "outputs": [],
   "source": [
    "\n",
    "def make_multi_index(k, image_dimensions, axes_order):\n",
    "    '''Convert the single index when iterating over an image into a \n",
    "       multi-index for the correct dimensions.\n",
    "       Multi-index is standard (i_t, i_c, i_z)\n",
    "    '''\n",
    "    if axes_order == 'z':\n",
    "        return (0, 0, k)\n",
    "    elif axes_order == 'cz':\n",
    "        return (0, int(k / image_dimensions['z']), k % image_dimensions['z'])\n",
    "    elif axes_order == 'tz':\n",
    "        return (int(k / image_dimensions['z']), 0, k % image_dimensions['z'])\n",
    "    elif axes_order == 'tcz':\n",
    "        return (int(k / (image_dimensions['z'] * image_dimensions['c'])),\n",
    "                int(k / image_dimensions['z']) % image_dimensions['c'], \n",
    "                k % image_dimensions['z'])\n",
    "    elif axes_order == 'ctz':\n",
    "        return ((int(k / image_dimensions['z']) % image_dimensions['t']),\n",
    "                 int(k / (image_dimensions['z'] * image_dimensions['t'])),\n",
    "                 k % image_dimensions['z'])\n",
    "                "
   ]
  },
  {
   "cell_type": "code",
   "execution_count": 23,
   "metadata": {},
   "outputs": [
    {
     "name": "stdout",
     "output_type": "stream",
     "text": [
      "{'x': 256, 'y': 256, 'c': 2, 't': 4, 'z': 4}\n",
      "k:\tmulti_index\n",
      "0 \t (0, 0, 0)\n",
      "1 \t (0, 0, 1)\n",
      "2 \t (0, 0, 2)\n",
      "3 \t (0, 0, 3)\n",
      "4 \t (1, 0, 0)\n",
      "5 \t (1, 0, 1)\n",
      "6 \t (1, 0, 2)\n",
      "7 \t (1, 0, 3)\n",
      "8 \t (2, 0, 0)\n",
      "9 \t (2, 0, 1)\n",
      "10 \t (2, 0, 2)\n",
      "11 \t (2, 0, 3)\n",
      "12 \t (3, 0, 0)\n",
      "13 \t (3, 0, 1)\n",
      "14 \t (3, 0, 2)\n",
      "15 \t (3, 0, 3)\n",
      "16 \t (4, 0, 0)\n",
      "17 \t (4, 0, 1)\n",
      "18 \t (4, 0, 2)\n",
      "19 \t (4, 0, 3)\n",
      "20 \t (5, 0, 0)\n",
      "21 \t (5, 0, 1)\n",
      "22 \t (5, 0, 2)\n",
      "23 \t (5, 0, 3)\n",
      "24 \t (6, 0, 0)\n",
      "25 \t (6, 0, 1)\n",
      "26 \t (6, 0, 2)\n",
      "27 \t (6, 0, 3)\n",
      "28 \t (7, 0, 0)\n",
      "29 \t (7, 0, 1)\n",
      "30 \t (7, 0, 2)\n",
      "31 \t (7, 0, 3)\n"
     ]
    }
   ],
   "source": [
    "print(imageDimensions)\n",
    "print(\"k:\\tmulti_index\")\n",
    "for k in range(32):\n",
    "    print(k,\"\\t\",make_multi_index(k,imageDimensions,'tz'))"
   ]
  },
  {
   "cell_type": "code",
   "execution_count": 17,
   "metadata": {},
   "outputs": [
    {
     "data": {
      "text/plain": [
       "{'x': 256, 'y': 256, 'c': 2, 't': 4, 'z': 4}"
      ]
     },
     "execution_count": 17,
     "metadata": {},
     "output_type": "execute_result"
    }
   ],
   "source": [
    "imageDimensions"
   ]
  },
  {
   "cell_type": "code",
   "execution_count": 20,
   "metadata": {},
   "outputs": [
    {
     "ename": "SyntaxError",
     "evalue": "invalid syntax (<ipython-input-20-2a23d0b9ebc0>, line 2)",
     "output_type": "error",
     "traceback": [
      "\u001b[0;36m  File \u001b[0;32m\"<ipython-input-20-2a23d0b9ebc0>\"\u001b[0;36m, line \u001b[0;32m2\u001b[0m\n\u001b[0;31m    i = (1,,1)\u001b[0m\n\u001b[0m           ^\u001b[0m\n\u001b[0;31mSyntaxError\u001b[0m\u001b[0;31m:\u001b[0m invalid syntax\n"
     ]
    }
   ],
   "source": [
    "x = np.reshape(np.arange(27),(3,3,3))\n",
    "i = (1,1)\n",
    "x[i]"
   ]
  },
  {
   "cell_type": "code",
   "execution_count": 11,
   "metadata": {},
   "outputs": [
    {
     "data": {
      "text/plain": [
       "array([ 1,  2,  3,  4,  5,  6,  7,  8,  9, 10, 11, 12, 13, 14, 15, 16, 17,\n",
       "       18, 19, 20, 21, 22, 23, 24, 25, 26])"
      ]
     },
     "execution_count": 11,
     "metadata": {},
     "output_type": "execute_result"
    }
   ],
   "source": [
    "np.arange(1,27)"
   ]
  },
  {
   "cell_type": "code",
   "execution_count": 14,
   "metadata": {},
   "outputs": [
    {
     "data": {
      "text/plain": [
       "array([[[ 0,  1,  2],\n",
       "        [ 3,  4,  5],\n",
       "        [ 6,  7,  8]],\n",
       "\n",
       "       [[ 9, 10, 11],\n",
       "        [12, 13, 14],\n",
       "        [15, 16, 17]],\n",
       "\n",
       "       [[18, 19, 20],\n",
       "        [21, 22, 23],\n",
       "        [24, 25, 26]]])"
      ]
     },
     "execution_count": 14,
     "metadata": {},
     "output_type": "execute_result"
    }
   ],
   "source": [
    "x"
   ]
  },
  {
   "cell_type": "code",
   "execution_count": null,
   "metadata": {},
   "outputs": [],
   "source": []
  }
 ],
 "metadata": {
  "kernelspec": {
   "display_name": "Python 3",
   "language": "python",
   "name": "python3"
  },
  "language_info": {
   "codemirror_mode": {
    "name": "ipython",
    "version": 3
   },
   "file_extension": ".py",
   "mimetype": "text/x-python",
   "name": "python",
   "nbconvert_exporter": "python",
   "pygments_lexer": "ipython3",
   "version": "3.6.4"
  }
 },
 "nbformat": 4,
 "nbformat_minor": 2
}
