{
 "cells": [
  {
   "cell_type": "code",
   "execution_count": 10,
   "metadata": {},
   "outputs": [],
   "source": [
    "import numpy as np\n",
    "import pims\n",
    "from pims.base_frames import FramesSequenceND\n",
    "from pims.bioformats import BioformatsReader\n",
    "import sys\n",
    "import matplotlib.pyplot as plt\n",
    "%matplotlib inline"
   ]
  },
  {
   "cell_type": "code",
   "execution_count": 11,
   "metadata": {},
   "outputs": [
    {
     "name": "stderr",
     "output_type": "stream",
     "text": [
      "/Users/akennard/.virtualenvs/myenv/lib/python3.6/site-packages/pims/bioformats.py:386: UserWarning: Due to an issue with JPype 0.6.0, reading is slower. Please consider upgrading JPype to 0.6.1 or later.\n",
      "  warn('Due to an issue with JPype 0.6.0, reading is slower. '\n"
     ]
    },
    {
     "data": {
      "text/plain": [
       "{'x': 256, 'y': 256, 'c': 2, 't': 4, 'z': 4}"
      ]
     },
     "execution_count": 11,
     "metadata": {},
     "output_type": "execute_result"
    }
   ],
   "source": [
    "images = BioformatsReader('testImages/testStack16bit_xyzct.tif')\n",
    "testImage = pims.Bioformats('testImages/testStack16bit_xyzct_MaxZ.tif')\n",
    "images.bundle_axes = 'yx'\n",
    "images.iter_axes  = 'tcz'\n",
    "imageDimensions = images.sizes\n",
    "imageDimensions"
   ]
  },
  {
   "cell_type": "code",
   "execution_count": 3,
   "metadata": {},
   "outputs": [
    {
     "data": {
      "image/png": "[encoded data removed]",
      "text/plain": [
       "<Figure size 432x288 with 1 Axes>"
      ]
     },
     "metadata": {},
     "output_type": "display_data"
    },
    {
     "data": {
      "text/plain": [
       "4074504192"
      ]
     },
     "execution_count": 3,
     "metadata": {},
     "output_type": "execute_result"
    }
   ],
   "source": [
    "# Perform the max-z\n",
    "container = np.zeros((imageDimensions['y'], imageDimensions['x']), dtype=images[0].dtype)\n",
    "for k, im in enumerate(images):\n",
    "    stack_index = k % imageDimensions['z']\n",
    "    if stack_index == 0:\n",
    "        container = np.zeros_like(container)\n",
    "    container = np.maximum(container,im)\n",
    "plt.imshow(container)\n",
    "plt.show()\n",
    "np.sum(container-testImage)\n"
   ]
  },
  {
   "cell_type": "code",
   "execution_count": 25,
   "metadata": {},
   "outputs": [],
   "source": [
    "class ReaderForMaxZWritingND(FramesSequenceND):\n",
    "    '''Pims-based reader for storing maxZ projection from a pims-based array \n",
    "    and accessing the result for writing'''\n",
    "    @property\n",
    "    def pixel_type(self):\n",
    "        return self._pixel_type\n",
    "    def __init__(self, original_reader):\n",
    "        super(ReaderForMaxZWritingND, self).__init__()\n",
    "        if not hasattr(original_reader,'sizes'):\n",
    "            raise ValueError('original_reader object must have sizes. Is \\\n",
    "                             original_reader a pims object?')\n",
    "        self._pixel_type = original_reader.pixel_type\n",
    "        axes = original_reader.sizes\n",
    "        if 'z' not in axes:\n",
    "            raise ValueError('original reader does not have a z-axis \\\n",
    "                             for max-z projection')\n",
    "        use_axes = {k:v for (k,v) in axes.items() if k is not 'z'}\n",
    "        for name in use_axes:\n",
    "            self._init_axis(name,axes[name])\n",
    "        if 'y' not in self._sizes:\n",
    "            raise ValueError(\"axis 'y' required for array\")\n",
    "        if 'x' not in self._sizes:\n",
    "            raise ValueError(\"axis 'x' required for array\")\n",
    "        self._maxzarray = np.zeros()\n",
    "        self._register_get_frame()\n",
    "        #TODO: finish this class"
   ]
  },
  {
   "cell_type": "code",
   "execution_count": 32,
   "metadata": {},
   "outputs": [
    {
     "data": {
      "text/plain": [
       "{'k2': 'bar'}"
      ]
     },
     "execution_count": 32,
     "metadata": {},
     "output_type": "execute_result"
    }
   ],
   "source": [
    "a = {'k1':'foo','k2':'bar'}\n",
    "b = {k:v for (k,v) in a.items() if k is not 'k1'}\n",
    "b"
   ]
  },
  {
   "cell_type": "code",
   "execution_count": 14,
   "metadata": {},
   "outputs": [],
   "source": [
    "\n",
    "def make_multi_index(k, image_dimensions, axes_order):\n",
    "    '''Convert the single index when iterating over an image into a \n",
    "       multi-index for the correct dimensions.\n",
    "       Multi-index is standard (i_t, i_c, i_z)\n",
    "    '''\n",
    "    if axes_order == 'z':\n",
    "        return (0, 0, k)\n",
    "    elif axes_order == 'cz':\n",
    "        return (0, int(k / image_dimensions['z']), k % image_dimensions['z'])\n",
    "    elif axes_order == 'tz':\n",
    "        return (int(k / image_dimensions['z']), 0, k % image_dimensions['z'])\n",
    "    elif axes_order == 'tcz':\n",
    "        return (int(k / (image_dimensions['z'] * image_dimensions['c'])),\n",
    "                int(k / image_dimensions['z']) % image_dimensions['c'], \n",
    "                k % image_dimensions['z'])\n",
    "    elif axes_order == 'ctz':\n",
    "        return ((int(k / image_dimensions['z']) % image_dimensions['t']),\n",
    "                 int(k / (image_dimensions['z'] * image_dimensions['t'])),\n",
    "                 k % image_dimensions['z'])\n",
    "                "
   ]
  },
  {
   "cell_type": "code",
   "execution_count": 23,
   "metadata": {},
   "outputs": [
    {
     "name": "stdout",
     "output_type": "stream",
     "text": [
      "{'x': 256, 'y': 256, 'c': 2, 't': 4, 'z': 4}\n",
      "k:\tmulti_index\n",
      "0 \t (0, 0, 0)\n",
      "1 \t (0, 0, 1)\n",
      "2 \t (0, 0, 2)\n",
      "3 \t (0, 0, 3)\n",
      "4 \t (1, 0, 0)\n",
      "5 \t (1, 0, 1)\n",
      "6 \t (1, 0, 2)\n",
      "7 \t (1, 0, 3)\n",
      "8 \t (2, 0, 0)\n",
      "9 \t (2, 0, 1)\n",
      "10 \t (2, 0, 2)\n",
      "11 \t (2, 0, 3)\n",
      "12 \t (3, 0, 0)\n",
      "13 \t (3, 0, 1)\n",
      "14 \t (3, 0, 2)\n",
      "15 \t (3, 0, 3)\n",
      "16 \t (4, 0, 0)\n",
      "17 \t (4, 0, 1)\n",
      "18 \t (4, 0, 2)\n",
      "19 \t (4, 0, 3)\n",
      "20 \t (5, 0, 0)\n",
      "21 \t (5, 0, 1)\n",
      "22 \t (5, 0, 2)\n",
      "23 \t (5, 0, 3)\n",
      "24 \t (6, 0, 0)\n",
      "25 \t (6, 0, 1)\n",
      "26 \t (6, 0, 2)\n",
      "27 \t (6, 0, 3)\n",
      "28 \t (7, 0, 0)\n",
      "29 \t (7, 0, 1)\n",
      "30 \t (7, 0, 2)\n",
      "31 \t (7, 0, 3)\n"
     ]
    }
   ],
   "source": [
    "print(imageDimensions)\n",
    "print(\"k:\\tmulti_index\")\n",
    "for k in range(32):\n",
    "    print(k,\"\\t\",make_multi_index(k,imageDimensions,'tz'))"
   ]
  },
  {
   "cell_type": "code",
   "execution_count": 17,
   "metadata": {},
   "outputs": [
    {
     "data": {
      "text/plain": [
       "{'x': 256, 'y': 256, 'c': 2, 't': 4, 'z': 4}"
      ]
     },
     "execution_count": 17,
     "metadata": {},
     "output_type": "execute_result"
    }
   ],
   "source": [
    "imageDimensions"
   ]
  },
  {
   "cell_type": "code",
   "execution_count": 20,
   "metadata": {},
   "outputs": [
    {
     "ename": "SyntaxError",
     "evalue": "invalid syntax (<ipython-input-20-2a23d0b9ebc0>, line 2)",
     "output_type": "error",
     "traceback": [
      "\u001b[0;36m  File \u001b[0;32m\"<ipython-input-20-2a23d0b9ebc0>\"\u001b[0;36m, line \u001b[0;32m2\u001b[0m\n\u001b[0;31m    i = (1,,1)\u001b[0m\n\u001b[0m           ^\u001b[0m\n\u001b[0;31mSyntaxError\u001b[0m\u001b[0;31m:\u001b[0m invalid syntax\n"
     ]
    }
   ],
   "source": [
    "x = np.reshape(np.arange(27),(3,3,3))\n",
    "i = (1,1)\n",
    "x[i]"
   ]
  },
  {
   "cell_type": "code",
   "execution_count": 11,
   "metadata": {},
   "outputs": [
    {
     "data": {
      "text/plain": [
       "array([ 1,  2,  3,  4,  5,  6,  7,  8,  9, 10, 11, 12, 13, 14, 15, 16, 17,\n",
       "       18, 19, 20, 21, 22, 23, 24, 25, 26])"
      ]
     },
     "execution_count": 11,
     "metadata": {},
     "output_type": "execute_result"
    }
   ],
   "source": [
    "np.arange(1,27)"
   ]
  },
  {
   "cell_type": "code",
   "execution_count": 14,
   "metadata": {},
   "outputs": [
    {
     "data": {
      "text/plain": [
       "array([[[ 0,  1,  2],\n",
       "        [ 3,  4,  5],\n",
       "        [ 6,  7,  8]],\n",
       "\n",
       "       [[ 9, 10, 11],\n",
       "        [12, 13, 14],\n",
       "        [15, 16, 17]],\n",
       "\n",
       "       [[18, 19, 20],\n",
       "        [21, 22, 23],\n",
       "        [24, 25, 26]]])"
      ]
     },
     "execution_count": 14,
     "metadata": {},
     "output_type": "execute_result"
    }
   ],
   "source": [
    "x"
   ]
  },
  {
   "cell_type": "code",
   "execution_count": null,
   "metadata": {},
   "outputs": [],
   "source": []
  }
 ],
 "metadata": {
  "kernelspec": {
   "display_name": "Python 3",
   "language": "python",
   "name": "python3"
  },
  "language_info": {
   "codemirror_mode": {
    "name": "ipython",
    "version": 3
   },
   "file_extension": ".py",
   "mimetype": "text/x-python",
   "name": "python",
   "nbconvert_exporter": "python",
   "pygments_lexer": "ipython3",
   "version": "3.6.4"
  }
 },
 "nbformat": 4,
 "nbformat_minor": 2
}
